{
 "cells": [
  {
   "cell_type": "code",
   "execution_count": 1,
   "metadata": {},
   "outputs": [],
   "source": [
    "import pandas as pd\n",
    "import math\n",
    "import numpy as np\n",
    "import os\n",
    "import glob\n",
    "frames_per_second = 30"
   ]
  },
  {
   "cell_type": "code",
   "execution_count": 2,
   "metadata": {
    "scrolled": true
   },
   "outputs": [
    {
     "data": {
      "text/plain": [
       "['Gal_35_father_retreive_trial_1']"
      ]
     },
     "execution_count": 2,
     "metadata": {},
     "output_type": "execute_result"
    }
   ],
   "source": [
    "#directory where behavior videos are located\n",
    "video_directory = '01_Raw_videos'\n",
    "dataframe_directory = '08_Feature_added_dataframe'\n",
    "output_directory = '07_Processed_videos'\n",
    "file_location = os.path.join(video_directory, '*.mp4')\n",
    "\n",
    "# create list of filenames for every video to be processed\n",
    "# this list is the input for the video processing function\n",
    "filenames = glob.glob(file_location)\n",
    "videoname = []\n",
    "for f in filenames:\n",
    "    # establish name for output file from the input filename\n",
    "    x = os.path.split(f)\n",
    "    x = x[1].split('.mp4')\n",
    "    x = x[0]\n",
    "    videoname.append(x)\n",
    "videoname"
   ]
  },
  {
   "cell_type": "code",
   "execution_count": 35,
   "metadata": {
    "scrolled": false
   },
   "outputs": [
    {
     "name": "stderr",
     "output_type": "stream",
     "text": [
      "<ipython-input-35-21f6d53e3f37>:73: RuntimeWarning: invalid value encountered in less\n",
      "  if Animals.at[j, (i, 'middle_head', 'likelihood')] < .011:\n"
     ]
    },
    {
     "name": "stdout",
     "output_type": "stream",
     "text": [
      "{'with_Infant1': 215.03333333333333, 'with_Infant2': 239.33333333333334, 'just_adult': 284.4}\n",
      "{'Latency_Infant1': 98.1, 'Latency_Infant2': 72.3}\n"
     ]
    }
   ],
   "source": [
    "# create and empty dataframe with the colum names of the behavioral variables to be measured\n",
    "# every every video will be processed in a for loop, with the results being appended to this empty dataframe\n",
    "columns_name = ['Video Name']\n",
    "Data = pd.DataFrame(columns = columns_name)\n",
    "infants = []\n",
    "\n",
    "# Loop through all the videos\n",
    "for x in videoname:\n",
    "    \n",
    "    # Import the h5 file for the feature dataframe and call it Animals\n",
    "    hdf_file = os.path.join(dataframe_directory, x)\n",
    "    hdf_var = glob.glob(hdf_file + '*')\n",
    "    Animals = pd.read_hdf(hdf_var[0])\n",
    "\n",
    "    # Loop through all the columns in animals and add the name of the infant names (Infant1, Infant2, etc)\n",
    "    # to the infants list\n",
    "    for column in Animals.columns:\n",
    "        if 'Infant' in column[0] and column[0] not in infants:\n",
    "            infants.append(column[0])\n",
    "\n",
    "    # Append the elements of infants to the columns name list\n",
    "    for i in infants:\n",
    "        columns_name.append(i)\n",
    "    \n",
    "    # Make different lists, dictionaries and variables to be used in extracting data\n",
    "    columns_appear = []\n",
    "    columns_disappear = []\n",
    "    columns_reappear = []\n",
    "    nest_times = {}\n",
    "    just_adult = 0\n",
    "    \n",
    "    # Loop through the infants list\n",
    "    for i in infants:\n",
    "        \n",
    "        # set a variable to count the number of frames the adult is with each infant in the nest\n",
    "        with_infant = 0\n",
    "        \n",
    "        # to be concise, make an infant column for the latency calculation\n",
    "        infant_column = (i, 'middle_head', 'x')\n",
    "        \n",
    "        # make lists corresponding to the columns_ lists from above\n",
    "        disappear = []\n",
    "        reappear = []\n",
    "        appear = []\n",
    "        \n",
    "        # Loop through each row in the dataframe\n",
    "        for j in range(len(Animals)):\n",
    "            \n",
    "            # Check if the adult is in the nest with each infant, and add 1 to with_infant if yes\n",
    "            if (Animals.at[j, ('In_Nest', 'Adult', 'body')] == 1 and\n",
    "            Animals.at[j, ('In_Nest', i, 'head')] == 1 and\n",
    "            Animals.at[j, ('In_Nest', i, 'middle_head')] == 1 and\n",
    "            Animals.at[j, ('In_Nest', i, 'middle_tail')] == 1 and\n",
    "            Animals.at[j, ('In_Nest', i, 'tail')] == 1):\n",
    "            \n",
    "                with_infant += 1\n",
    "            \n",
    "            # Check if the adult is in the nest at all, and add 1 to just_adult if yes\n",
    "            if i == infants[0]:\n",
    "                if Animals.at[j, ('In_Nest', 'Adult', 'body')] == 1:\n",
    "                    just_adult += 1\n",
    "            \n",
    "            # Make sure you're not overindexing\n",
    "            if j + 1 not in Animals[infant_column].index:\n",
    "                continue\n",
    "\n",
    "            # Append to the appear list the first time an infant appears in a video\n",
    "            if pd.isnull(Animals.at[j, infant_column]) and pd.notnull(Animals.at[j + 1, infant_column]):\n",
    "                appear.append(j)\n",
    "\n",
    "            # Add to disappear and reappear lists based on when the infant points disappeared and reappeared\n",
    "            # before being filled in by the fill-in-points script\n",
    "            if Animals.at[j, (i, 'middle_head', 'likelihood')] < .011:\n",
    "\n",
    "                if j - 1 not in Animals[infant_column].index:\n",
    "                    continue\n",
    "\n",
    "                if Animals.at[j - 1, (i, 'middle_head', 'likelihood')] > .011:\n",
    "                    disappear.append(j - 1)\n",
    "\n",
    "                if j + 1 not in Animals[infant_column].index:\n",
    "                    disappear.pop(-1)\n",
    "                    continue\n",
    "\n",
    "                if Animals.at[j + 1, (i, 'middle_head', 'likelihood')] > .011:\n",
    "                    reappear.append(j + 1)\n",
    "        \n",
    "        # If the disappear and reappear lists have different lengths, remove the last element from the disappear list\n",
    "        if len(disappear) > len(reappear):\n",
    "            disappear.pop(-1)\n",
    "        \n",
    "        # Append to the columns lists\n",
    "        columns_appear.append(appear[0])\n",
    "    \n",
    "        columns_disappear.append(disappear)\n",
    "        columns_reappear.append(reappear)\n",
    "        \n",
    "        # In the nest_times dictionaries, append the values the adult spends in the nest with each infant and the\n",
    "        # total time spent by the adult in the nest\n",
    "        nest_times['with_' + i] = with_infant / frames_per_second\n",
    "    nest_times['just_adult'] = just_adult / frames_per_second \n",
    "    print(nest_times)\n",
    "    \n",
    "    # Create another dictionary called latencies and loop through columns_disappear and each list inside columns_disappear\n",
    "    latencies = {}\n",
    "    for i in range(len(columns_disappear)):\n",
    "        post_latency = 0\n",
    "\n",
    "        for j in range(len(columns_disappear[i])):\n",
    "\n",
    "            # Calculate the distance between when the infant disappears and reappears\n",
    "            distance = math.sqrt((Animals.at[columns_reappear[i][j], ('Infant' + str(i + 1), 'middle_head', 'x')] \n",
    "                                - Animals.at[columns_disappear[i][j], ('Infant' + str(i + 1), 'middle_head', 'x')]) ** 2 \n",
    "                                +(Animals.at[columns_reappear[i][j], ('Infant' + str(i + 1), 'middle_head', 'y')] \n",
    "                                - Animals.at[columns_disappear[i][j], ('Infant' + str(i + 1), 'middle_head', 'y')]) ** 2)\n",
    "            \n",
    "            # Continuously reassign the post_latency and latency_frame values when a bigger post_latency value comes along\n",
    "            # in an iteration\n",
    "            if distance > post_latency:\n",
    "                post_latency = distance\n",
    "                latency_frame = columns_disappear[i][j]\n",
    "        \n",
    "        # If post_latency ends up being less than 100, the adult probably didn't retrieve the infant, so make the\n",
    "        # latency time null\n",
    "        if post_latency < 100:\n",
    "            latencies['Latency_' + 'Infant' + str(i + 1)] = 'NaN'\n",
    "            continue\n",
    "\n",
    "        # Otherwise, append the post_latency value to the latencies dictionary\n",
    "        latencies['Latency_' + 'Infant' + str(i + 1)] = (latency_frame - columns_appear[i]) / frames_per_second        \n",
    "    \n",
    "    print(latencies)\n",
    "    \n",
    "    # Make a new column of the Data dataframe to include the latencty values and nest time values\n",
    "    new_row = {'Video Name':x}\n",
    "    for i in infants:\n",
    "        new_row['Latency ' + i] = latencies['Latency_' + i]\n",
    "        new_row['Nest Time Adult With ' + i] = nest_times['with_' + i]\n",
    "    new_row['Total Adult Nest Time'] = nest_times['just_adult']\n",
    "    Data = Data.append(new_row, ignore_index=True)    "
   ]
  },
  {
   "cell_type": "code",
   "execution_count": 36,
   "metadata": {
    "scrolled": false
   },
   "outputs": [
    {
     "data": {
      "text/html": [
       "<div>\n",
       "<style scoped>\n",
       "    .dataframe tbody tr th:only-of-type {\n",
       "        vertical-align: middle;\n",
       "    }\n",
       "\n",
       "    .dataframe tbody tr th {\n",
       "        vertical-align: top;\n",
       "    }\n",
       "\n",
       "    .dataframe thead th {\n",
       "        text-align: right;\n",
       "    }\n",
       "</style>\n",
       "<table border=\"1\" class=\"dataframe\">\n",
       "  <thead>\n",
       "    <tr style=\"text-align: right;\">\n",
       "      <th></th>\n",
       "      <th>Video Name</th>\n",
       "      <th>Latency Infant1</th>\n",
       "      <th>Latency Infant2</th>\n",
       "      <th>Nest Time Adult With Infant1</th>\n",
       "      <th>Nest Time Adult With Infant2</th>\n",
       "      <th>Total Adult Nest Time</th>\n",
       "    </tr>\n",
       "  </thead>\n",
       "  <tbody>\n",
       "    <tr>\n",
       "      <th>0</th>\n",
       "      <td>Gal_35_father_retreive_trial_1</td>\n",
       "      <td>98.1</td>\n",
       "      <td>72.3</td>\n",
       "      <td>215.033333</td>\n",
       "      <td>239.333333</td>\n",
       "      <td>284.4</td>\n",
       "    </tr>\n",
       "  </tbody>\n",
       "</table>\n",
       "</div>"
      ],
      "text/plain": [
       "                       Video Name  Latency Infant1  Latency Infant2  \\\n",
       "0  Gal_35_father_retreive_trial_1             98.1             72.3   \n",
       "\n",
       "   Nest Time Adult With Infant1  Nest Time Adult With Infant2  \\\n",
       "0                    215.033333                    239.333333   \n",
       "\n",
       "   Total Adult Nest Time  \n",
       "0                  284.4  "
      ]
     },
     "execution_count": 36,
     "metadata": {},
     "output_type": "execute_result"
    }
   ],
   "source": [
    "Data"
   ]
  }
 ],
 "metadata": {
  "kernelspec": {
   "display_name": "Python 3",
   "language": "python",
   "name": "python3"
  },
  "language_info": {
   "codemirror_mode": {
    "name": "ipython",
    "version": 3
   },
   "file_extension": ".py",
   "mimetype": "text/x-python",
   "name": "python",
   "nbconvert_exporter": "python",
   "pygments_lexer": "ipython3",
   "version": "3.8.3"
  }
 },
 "nbformat": 4,
 "nbformat_minor": 4
}
