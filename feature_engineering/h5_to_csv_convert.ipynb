{
 "cells": [
  {
   "cell_type": "code",
   "execution_count": 1,
   "metadata": {},
   "outputs": [],
   "source": [
    "import pandas as pd\n",
    "import os\n",
    "import glob\n",
    "\n",
    "video_directory = 'Raw_videos'\n",
    "adult_directory = 'Adult_model_hdfs'\n",
    "output_directory = 'Adult_model_csvs'\n",
    "file_location = os.path.join(video_directory, '*.mp4')\n",
    "\n",
    "# create list of filenames for every video to be processed\n",
    "# this list is the input for the video processing function\n",
    "filenames = glob.glob(file_location)\n",
    "videoname = []\n",
    "for f in filenames:\n",
    "    # establish name for output file from the input filename\n",
    "    x = os.path.split(f)\n",
    "    x = x[1].split('.mp4')\n",
    "    x = x[0]\n",
    "    videoname.append(x)\n",
    "videoname\n",
    "\n",
    "for x in videoname:\n",
    "    \n",
    "    # Load in the adult dataframe with points for adult, infants, and nest coordinates\n",
    "    hdf_file = os.path.join(adult_directory, x)\n",
    "    hdf_var = glob.glob(hdf_file + '*')\n",
    "    Adult = pd.read_hdf(hdf_var[0])\n",
    "    \n",
    "    \n",
    "    #Save output to HDf5\n",
    "    csvFile = (x + \".\" +'csv')\n",
    "    csvFile = os.path.join(output_directory, csvFile)\n",
    "    Adult.to_csv(csvFile, index=False)"
   ]
  }
 ],
 "metadata": {
  "kernelspec": {
   "display_name": "Python 3",
   "language": "python",
   "name": "python3"
  },
  "language_info": {
   "codemirror_mode": {
    "name": "ipython",
    "version": 3
   },
   "file_extension": ".py",
   "mimetype": "text/x-python",
   "name": "python",
   "nbconvert_exporter": "python",
   "pygments_lexer": "ipython3",
   "version": "3.8.3"
  }
 },
 "nbformat": 4,
 "nbformat_minor": 4
}
